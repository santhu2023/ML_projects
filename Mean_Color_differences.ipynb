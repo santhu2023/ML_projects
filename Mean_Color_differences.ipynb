{
  "nbformat": 4,
  "nbformat_minor": 0,
  "metadata": {
    "colab": {
      "provenance": []
    },
    "kernelspec": {
      "name": "python3",
      "display_name": "Python 3"
    },
    "language_info": {
      "name": "python"
    }
  },
  "cells": [
    {
      "cell_type": "code",
      "execution_count": 6,
      "metadata": {
        "id": "BKEtRL4vomnb"
      },
      "outputs": [],
      "source": [
        "from imutils import paths\n",
        "import cv2\n",
        "import numpy as np\n",
        "import imutils"
      ]
    },
    {
      "cell_type": "code",
      "source": [
        "from google.colab.patches import cv2_imshow"
      ],
      "metadata": {
        "id": "knBQuPGvoygT"
      },
      "execution_count": 7,
      "outputs": []
    },
    {
      "cell_type": "code",
      "source": [
        "imagePaths = list(paths.list_images('/content/original_images'))"
      ],
      "metadata": {
        "id": "KgffvI0-o1I-"
      },
      "execution_count": 8,
      "outputs": []
    },
    {
      "cell_type": "code",
      "source": [
        "def changingcolor():\n",
        "    for imagePath in imagePaths:\n",
        "      image = cv2.imread(imagePath)\n",
        "      gray = cv2.cvtColor(image,cv2.COLOR_BGR2GRAY)\n",
        "changingcolor()\n",
        "for imagePath in imagePaths:\n",
        "      image = cv2.imread(imagePath)\n",
        "      gray = cv2.cvtColor(image,cv2.COLOR_BGR2GRAY)\n",
        "      def mean_difference():\n",
        "          color_difference=cv2.absdiff(image,cv2.cvtColor(gray,cv2.COLOR_GRAY2BGR))\n",
        "          mean_difference = np.mean(color_difference)\n",
        "          print(f\"Mean Color Difference:{mean_difference}\")\n",
        "      mean_difference()"
      ],
      "metadata": {
        "colab": {
          "base_uri": "https://localhost:8080/"
        },
        "id": "CVsk1XxJpHbo",
        "outputId": "254b3be5-81ee-44e9-a2bc-223181749968"
      },
      "execution_count": 10,
      "outputs": [
        {
          "output_type": "stream",
          "name": "stdout",
          "text": [
            "Mean Color Difference:37.21426296296296\n",
            "Mean Color Difference:9.660544444444444\n",
            "Mean Color Difference:21.856814814814815\n",
            "Mean Color Difference:19.97825925925926\n",
            "Mean Color Difference:11.057570370370371\n"
          ]
        }
      ]
    },
    {
      "cell_type": "code",
      "source": [],
      "metadata": {
        "id": "86iXBG6ipadW"
      },
      "execution_count": null,
      "outputs": []
    }
  ]
}